{
 "cells": [
  {
   "cell_type": "code",
   "execution_count": 1,
   "metadata": {},
   "outputs": [],
   "source": [
    "# Dependencies\n",
    "from splinter import Browser\n",
    "from bs4 import BeautifulSoup\n",
    "from webdriver_manager.chrome import ChromeDriverManager\n",
    "import time\n",
    "import pandas as pd\n",
    "import zipfile\n",
    "import wget"
   ]
  },
  {
   "cell_type": "code",
   "execution_count": null,
   "metadata": {},
   "outputs": [],
   "source": [
    "# Setup splinter\n",
    "executable_path = {'executable_path': ChromeDriverManager().install()}\n",
    "browser = Browser('chrome', **executable_path, headless=False)"
   ]
  },
  {
   "cell_type": "code",
   "execution_count": null,
   "metadata": {},
   "outputs": [],
   "source": [
    "# Scrape the Mars News Site\n",
    "url = \"https://s3.amazonaws.com/tripdata/index.html\"\n",
    "browser.visit(url)"
   ]
  },
  {
   "cell_type": "code",
   "execution_count": null,
   "metadata": {},
   "outputs": [],
   "source": [
    "html = browser.html\n",
    "soup = BeautifulSoup(html, \"html.parser\")"
   ]
  },
  {
   "cell_type": "code",
   "execution_count": null,
   "metadata": {},
   "outputs": [],
   "source": [
    "data=[]\n",
    "for a in soup.find_all('a', href=True):\n",
    "    data.append(a['href'])\n",
    "data"
   ]
  },
  {
   "cell_type": "code",
   "execution_count": null,
   "metadata": {},
   "outputs": [],
   "source": [
    "#breakout into Year Buckets\n",
    "y2017_y2022 = []\n",
    "y2017 = []\n",
    "y2018 = []\n",
    "y2019 = []\n",
    "y2020 = []\n",
    "y2021 = []\n",
    "y2022 = []\n",
    "\n",
    "\n",
    "for i in range(0, len(data) -1):\n",
    "    date = data[i].split('/')[-1].split('-')[0]\n",
    "    \n",
    "    if (date != \"JC\"):\n",
    "        year = int(date[0:4])\n",
    "        if (year == 2017):\n",
    "            y2017.append(data[i])\n",
    "        elif (year == 2018):\n",
    "            y2018.append(data[i])\n",
    "        elif (year == 2019):\n",
    "            y2019.append(data[i])\n",
    "        elif (year == 2020):\n",
    "            y2020.append(data[i])\n",
    "        elif (year == 2021):\n",
    "            y2021.append(data[i])\n",
    "        elif (year == 2022):\n",
    "            y2022.append(data[i])\n",
    " #Pull all the Items in a certain date range           \n",
    "for i in range(0, len(data) -1):\n",
    "    date = data[i].split('/')[-1].split('-')[0]\n",
    "    if (date != \"JC\"):\n",
    "        year = int(date[0:4])\n",
    "        if (year >= 2021):\n",
    "            y2017_y2022.append(data[i])\n",
    "\n",
    "\n",
    "        \n"
   ]
  },
  {
   "cell_type": "code",
   "execution_count": null,
   "metadata": {
    "tags": []
   },
   "outputs": [],
   "source": [
    "# unzip the files of the date range\n",
    "dfile = y2017_y2022  \n",
    "ziplist=[]\n",
    "for i in dfile:\n",
    "    ziplist.append(wget.download(i,\"zip\"))\n",
    "    "
   ]
  },
  {
   "cell_type": "code",
   "execution_count": null,
   "metadata": {},
   "outputs": [],
   "source": [
    "# convert the File name to .csv\n",
    "print(ziplist)\n",
    "csvlist = []\n",
    "for i in range(0, len(ziplist)):\n",
    "    csvlist.append(ziplist[i].split('/')[-1].rstrip(\".zip\"))\n",
    "    \n",
    "csvlist"
   ]
  },
  {
   "cell_type": "code",
   "execution_count": null,
   "metadata": {},
   "outputs": [],
   "source": [
    "\n",
    "# with zipfile.ZipFile(\"zip/202203-citibike-tripdata.csv.zip\") as z:\n",
    "#     with z.open(\"202203-citibike-tripdata.csv\") as f:\n",
    "#                citi1 = pd.read_csv(f, header=0, delimiter=\"\\t\")\n",
    "# print(citi1.head()) # print the first 5 rows\n",
    "# # os.path.split"
   ]
  },
  {
   "cell_type": "code",
   "execution_count": null,
   "metadata": {},
   "outputs": [],
   "source": [
    "\n",
    "# unzip files\n",
    "zf=[]\n",
    "\n",
    "for x in range(0,len(ziplist)):\n",
    "    zf.append(zipfile.ZipFile(ziplist[x]))\n",
    "    # df = pd.read_csv(zf.open(ziplist[x].split('/')[-1].rstrip(\".zip\")))\n",
    "    # zf.append(zipfile.Zipfile(ziplist[x]))\n",
    "# if you want to see all files inside zip folder\n",
    "zf\n"
   ]
  },
  {
   "cell_type": "code",
   "execution_count": null,
   "metadata": {},
   "outputs": [],
   "source": [
    "# df = pd.read_csv(zf.open(csvlist[x]))\n",
    "# df.to_csv(f\"csv/{csvlist[x]}\") "
   ]
  },
  {
   "cell_type": "code",
   "execution_count": null,
   "metadata": {},
   "outputs": [],
   "source": [
    "\n",
    "# now read your csv file # remeber that\n",
    "for x in range(0, len(csvlist)):\n",
    "    df = pd.read_csv(zf[x].open(csvlist[x]))\n",
    "    df = df.dropna()\n",
    "    \n",
    "    df.to_csv(f\"csv/{csvlist[x]}\") "
   ]
  },
  {
   "cell_type": "code",
   "execution_count": null,
   "metadata": {},
   "outputs": [],
   "source": [
    "df.head()"
   ]
  },
  {
   "cell_type": "code",
   "execution_count": null,
   "metadata": {},
   "outputs": [],
   "source": [
    "# 0\n",
    "# zf = zipfile.ZipFile(\"zip/202203-citibike-tripdata.csv.zip\") \n",
    "# # if you want to see all files inside zip folder\n",
    "# zf\n",
    "\n",
    "# now read your csv file \n",
    "df = pd.read_csv(zf.open(\"202203-citibike-tripdata.csv\"))\n",
    "df.head()\n",
    "df.to_csv('csv/202203-citibike-tripdata.csv') "
   ]
  },
  {
   "cell_type": "code",
   "execution_count": 2,
   "metadata": {},
   "outputs": [
    {
     "name": "stderr",
     "output_type": "stream",
     "text": [
      "/usr/local/anaconda3/lib/python3.9/site-packages/pandas/core/reshape/concat.py:294: DtypeWarning: Columns (8) have mixed types.Specify dtype option on import or set low_memory=False.\n",
      "  op = _Concatenator(\n"
     ]
    },
    {
     "data": {
      "text/html": [
       "<div>\n",
       "<style scoped>\n",
       "    .dataframe tbody tr th:only-of-type {\n",
       "        vertical-align: middle;\n",
       "    }\n",
       "\n",
       "    .dataframe tbody tr th {\n",
       "        vertical-align: top;\n",
       "    }\n",
       "\n",
       "    .dataframe thead th {\n",
       "        text-align: right;\n",
       "    }\n",
       "</style>\n",
       "<table border=\"1\" class=\"dataframe\">\n",
       "  <thead>\n",
       "    <tr style=\"text-align: right;\">\n",
       "      <th></th>\n",
       "      <th>Unnamed: 0</th>\n",
       "      <th>ride_id</th>\n",
       "      <th>rideable_type</th>\n",
       "      <th>started_at</th>\n",
       "      <th>ended_at</th>\n",
       "      <th>start_station_name</th>\n",
       "      <th>start_station_id</th>\n",
       "      <th>end_station_name</th>\n",
       "      <th>end_station_id</th>\n",
       "      <th>start_lat</th>\n",
       "      <th>start_lng</th>\n",
       "      <th>end_lat</th>\n",
       "      <th>end_lng</th>\n",
       "      <th>member_casual</th>\n",
       "    </tr>\n",
       "  </thead>\n",
       "  <tbody>\n",
       "    <tr>\n",
       "      <th>0</th>\n",
       "      <td>0</td>\n",
       "      <td>4B923B054861DAEF</td>\n",
       "      <td>docked_bike</td>\n",
       "      <td>2021-06-01 23:12:34</td>\n",
       "      <td>2021-06-01 23:14:46</td>\n",
       "      <td>Driggs Ave &amp; N 9 St</td>\n",
       "      <td>5411.08</td>\n",
       "      <td>Bayard St &amp; Leonard St</td>\n",
       "      <td>5442.05</td>\n",
       "      <td>40.718169</td>\n",
       "      <td>-73.955201</td>\n",
       "      <td>40.719156</td>\n",
       "      <td>-73.948854</td>\n",
       "      <td>member</td>\n",
       "    </tr>\n",
       "    <tr>\n",
       "      <th>1</th>\n",
       "      <td>1</td>\n",
       "      <td>7F5D78629F671C01</td>\n",
       "      <td>docked_bike</td>\n",
       "      <td>2021-06-16 17:14:56</td>\n",
       "      <td>2021-06-16 17:29:15</td>\n",
       "      <td>Fulton St &amp; Broadway</td>\n",
       "      <td>5175.08</td>\n",
       "      <td>Mercer St &amp; Spring St</td>\n",
       "      <td>5532.01</td>\n",
       "      <td>40.711066</td>\n",
       "      <td>-74.009447</td>\n",
       "      <td>40.723627</td>\n",
       "      <td>-73.999496</td>\n",
       "      <td>casual</td>\n",
       "    </tr>\n",
       "    <tr>\n",
       "      <th>2</th>\n",
       "      <td>2</td>\n",
       "      <td>3F11FC94B816A370</td>\n",
       "      <td>docked_bike</td>\n",
       "      <td>2021-06-07 19:41:55</td>\n",
       "      <td>2021-06-07 19:51:28</td>\n",
       "      <td>Devoe St &amp; Lorimer St</td>\n",
       "      <td>5259.06</td>\n",
       "      <td>Manhattan Av &amp; Leonard St</td>\n",
       "      <td>5442.09</td>\n",
       "      <td>40.713352</td>\n",
       "      <td>-73.949103</td>\n",
       "      <td>40.720840</td>\n",
       "      <td>-73.948440</td>\n",
       "      <td>casual</td>\n",
       "    </tr>\n",
       "    <tr>\n",
       "      <th>3</th>\n",
       "      <td>3</td>\n",
       "      <td>9116683DA18320D9</td>\n",
       "      <td>electric_bike</td>\n",
       "      <td>2021-06-17 15:13:15</td>\n",
       "      <td>2021-06-17 15:33:25</td>\n",
       "      <td>Driggs Ave &amp; N 9 St</td>\n",
       "      <td>5411.08</td>\n",
       "      <td>Greenwich Ave &amp; Charles St</td>\n",
       "      <td>5914.08</td>\n",
       "      <td>40.718169</td>\n",
       "      <td>-73.955201</td>\n",
       "      <td>40.735238</td>\n",
       "      <td>-74.000271</td>\n",
       "      <td>member</td>\n",
       "    </tr>\n",
       "    <tr>\n",
       "      <th>4</th>\n",
       "      <td>4</td>\n",
       "      <td>FBBF59A0A03AC3AF</td>\n",
       "      <td>electric_bike</td>\n",
       "      <td>2021-06-18 08:27:03</td>\n",
       "      <td>2021-06-18 08:53:37</td>\n",
       "      <td>Graham Ave &amp; Conselyea St</td>\n",
       "      <td>5291.05</td>\n",
       "      <td>E 30 St &amp; Park Ave S</td>\n",
       "      <td>6206.08</td>\n",
       "      <td>40.715143</td>\n",
       "      <td>-73.944507</td>\n",
       "      <td>40.744449</td>\n",
       "      <td>-73.983035</td>\n",
       "      <td>member</td>\n",
       "    </tr>\n",
       "  </tbody>\n",
       "</table>\n",
       "</div>"
      ],
      "text/plain": [
       "   Unnamed: 0           ride_id  rideable_type           started_at  \\\n",
       "0           0  4B923B054861DAEF    docked_bike  2021-06-01 23:12:34   \n",
       "1           1  7F5D78629F671C01    docked_bike  2021-06-16 17:14:56   \n",
       "2           2  3F11FC94B816A370    docked_bike  2021-06-07 19:41:55   \n",
       "3           3  9116683DA18320D9  electric_bike  2021-06-17 15:13:15   \n",
       "4           4  FBBF59A0A03AC3AF  electric_bike  2021-06-18 08:27:03   \n",
       "\n",
       "              ended_at         start_station_name  start_station_id  \\\n",
       "0  2021-06-01 23:14:46        Driggs Ave & N 9 St           5411.08   \n",
       "1  2021-06-16 17:29:15       Fulton St & Broadway           5175.08   \n",
       "2  2021-06-07 19:51:28      Devoe St & Lorimer St           5259.06   \n",
       "3  2021-06-17 15:33:25        Driggs Ave & N 9 St           5411.08   \n",
       "4  2021-06-18 08:53:37  Graham Ave & Conselyea St           5291.05   \n",
       "\n",
       "             end_station_name end_station_id  start_lat  start_lng    end_lat  \\\n",
       "0      Bayard St & Leonard St        5442.05  40.718169 -73.955201  40.719156   \n",
       "1       Mercer St & Spring St        5532.01  40.711066 -74.009447  40.723627   \n",
       "2   Manhattan Av & Leonard St        5442.09  40.713352 -73.949103  40.720840   \n",
       "3  Greenwich Ave & Charles St        5914.08  40.718169 -73.955201  40.735238   \n",
       "4        E 30 St & Park Ave S        6206.08  40.715143 -73.944507  40.744449   \n",
       "\n",
       "     end_lng member_casual  \n",
       "0 -73.948854        member  \n",
       "1 -73.999496        casual  \n",
       "2 -73.948440        casual  \n",
       "3 -74.000271        member  \n",
       "4 -73.983035        member  "
      ]
     },
     "execution_count": 2,
     "metadata": {},
     "output_type": "execute_result"
    }
   ],
   "source": [
    "#Merge the three files\n",
    "maindf = pd.concat(\n",
    "    map(pd.read_csv, ['csv/202106-citibike-tripdata.csv','csv/202107-citibike-tripdata.csv','csv/202108-citibike-tripdata.csv']), ignore_index=True)\n",
    "maindf = maindf.dropna()\n",
    "maindf.head()\n"
   ]
  },
  {
   "cell_type": "code",
   "execution_count": 3,
   "metadata": {},
   "outputs": [
    {
     "data": {
      "text/plain": [
       "9296859"
      ]
     },
     "execution_count": 3,
     "metadata": {},
     "output_type": "execute_result"
    }
   ],
   "source": [
    "startdatedf=pd.DataFrame(maindf['start_station_name'])\n",
    "# \n",
    "startdatedf.head()\n",
    "len(startdatedf)"
   ]
  },
  {
   "cell_type": "code",
   "execution_count": 4,
   "metadata": {},
   "outputs": [
    {
     "data": {
      "text/plain": [
       "9296859"
      ]
     },
     "execution_count": 4,
     "metadata": {},
     "output_type": "execute_result"
    }
   ],
   "source": [
    "enddatedf=pd.DataFrame(maindf['end_station_name'])\n",
    "enddatedf.rename(columns = {'end_station_name':'start_station_name'}, inplace = True)\n",
    "enddatedf.head()\n",
    "len(enddatedf)"
   ]
  },
  {
   "cell_type": "code",
   "execution_count": 5,
   "metadata": {},
   "outputs": [
    {
     "data": {
      "text/plain": [
       "18593718"
      ]
     },
     "execution_count": 5,
     "metadata": {},
     "output_type": "execute_result"
    }
   ],
   "source": [
    "frames=[startdatedf,enddatedf]\n",
    "stationname=pd.concat(frames)\n",
    "len(stationname)\n"
   ]
  },
  {
   "cell_type": "code",
   "execution_count": 19,
   "metadata": {},
   "outputs": [
    {
     "ename": "KeyError",
     "evalue": "'start_station_name'",
     "output_type": "error",
     "traceback": [
      "\u001b[0;31m---------------------------------------------------------------------------\u001b[0m",
      "\u001b[0;31mKeyError\u001b[0m                                  Traceback (most recent call last)",
      "\u001b[0;32m/usr/local/anaconda3/lib/python3.9/site-packages/pandas/core/indexes/base.py\u001b[0m in \u001b[0;36mget_loc\u001b[0;34m(self, key, method, tolerance)\u001b[0m\n\u001b[1;32m   3360\u001b[0m             \u001b[0;32mtry\u001b[0m\u001b[0;34m:\u001b[0m\u001b[0;34m\u001b[0m\u001b[0;34m\u001b[0m\u001b[0m\n\u001b[0;32m-> 3361\u001b[0;31m                 \u001b[0;32mreturn\u001b[0m \u001b[0mself\u001b[0m\u001b[0;34m.\u001b[0m\u001b[0m_engine\u001b[0m\u001b[0;34m.\u001b[0m\u001b[0mget_loc\u001b[0m\u001b[0;34m(\u001b[0m\u001b[0mcasted_key\u001b[0m\u001b[0;34m)\u001b[0m\u001b[0;34m\u001b[0m\u001b[0;34m\u001b[0m\u001b[0m\n\u001b[0m\u001b[1;32m   3362\u001b[0m             \u001b[0;32mexcept\u001b[0m \u001b[0mKeyError\u001b[0m \u001b[0;32mas\u001b[0m \u001b[0merr\u001b[0m\u001b[0;34m:\u001b[0m\u001b[0;34m\u001b[0m\u001b[0;34m\u001b[0m\u001b[0m\n",
      "\u001b[0;32m/usr/local/anaconda3/lib/python3.9/site-packages/pandas/_libs/index.pyx\u001b[0m in \u001b[0;36mpandas._libs.index.IndexEngine.get_loc\u001b[0;34m()\u001b[0m\n",
      "\u001b[0;32mpandas/_libs/index_class_helper.pxi\u001b[0m in \u001b[0;36mpandas._libs.index.Int64Engine._check_type\u001b[0;34m()\u001b[0m\n",
      "\u001b[0;32mpandas/_libs/index_class_helper.pxi\u001b[0m in \u001b[0;36mpandas._libs.index.Int64Engine._check_type\u001b[0;34m()\u001b[0m\n",
      "\u001b[0;31mKeyError\u001b[0m: 'start_station_name'",
      "\nThe above exception was the direct cause of the following exception:\n",
      "\u001b[0;31mKeyError\u001b[0m                                  Traceback (most recent call last)",
      "\u001b[0;32m/var/folders/fd/z3r1ntv931b76c63_gh69p440000gn/T/ipykernel_7418/2665320862.py\u001b[0m in \u001b[0;36m<module>\u001b[0;34m\u001b[0m\n\u001b[0;32m----> 1\u001b[0;31m \u001b[0mstationname\u001b[0m\u001b[0;34m=\u001b[0m\u001b[0mstationname\u001b[0m\u001b[0;34m[\u001b[0m\u001b[0;34m'start_station_name'\u001b[0m\u001b[0;34m]\u001b[0m\u001b[0;34m.\u001b[0m\u001b[0mdrop_duplicates\u001b[0m\u001b[0;34m(\u001b[0m\u001b[0;34m)\u001b[0m\u001b[0;34m\u001b[0m\u001b[0;34m\u001b[0m\u001b[0m\n\u001b[0m\u001b[1;32m      2\u001b[0m \u001b[0mstationname\u001b[0m\u001b[0;34m\u001b[0m\u001b[0;34m\u001b[0m\u001b[0m\n",
      "\u001b[0;32m/usr/local/anaconda3/lib/python3.9/site-packages/pandas/core/series.py\u001b[0m in \u001b[0;36m__getitem__\u001b[0;34m(self, key)\u001b[0m\n\u001b[1;32m    940\u001b[0m \u001b[0;34m\u001b[0m\u001b[0m\n\u001b[1;32m    941\u001b[0m         \u001b[0;32melif\u001b[0m \u001b[0mkey_is_scalar\u001b[0m\u001b[0;34m:\u001b[0m\u001b[0;34m\u001b[0m\u001b[0;34m\u001b[0m\u001b[0m\n\u001b[0;32m--> 942\u001b[0;31m             \u001b[0;32mreturn\u001b[0m \u001b[0mself\u001b[0m\u001b[0;34m.\u001b[0m\u001b[0m_get_value\u001b[0m\u001b[0;34m(\u001b[0m\u001b[0mkey\u001b[0m\u001b[0;34m)\u001b[0m\u001b[0;34m\u001b[0m\u001b[0;34m\u001b[0m\u001b[0m\n\u001b[0m\u001b[1;32m    943\u001b[0m \u001b[0;34m\u001b[0m\u001b[0m\n\u001b[1;32m    944\u001b[0m         \u001b[0;32mif\u001b[0m \u001b[0mis_hashable\u001b[0m\u001b[0;34m(\u001b[0m\u001b[0mkey\u001b[0m\u001b[0;34m)\u001b[0m\u001b[0;34m:\u001b[0m\u001b[0;34m\u001b[0m\u001b[0;34m\u001b[0m\u001b[0m\n",
      "\u001b[0;32m/usr/local/anaconda3/lib/python3.9/site-packages/pandas/core/series.py\u001b[0m in \u001b[0;36m_get_value\u001b[0;34m(self, label, takeable)\u001b[0m\n\u001b[1;32m   1049\u001b[0m \u001b[0;34m\u001b[0m\u001b[0m\n\u001b[1;32m   1050\u001b[0m         \u001b[0;31m# Similar to Index.get_value, but we do not fall back to positional\u001b[0m\u001b[0;34m\u001b[0m\u001b[0;34m\u001b[0m\u001b[0m\n\u001b[0;32m-> 1051\u001b[0;31m         \u001b[0mloc\u001b[0m \u001b[0;34m=\u001b[0m \u001b[0mself\u001b[0m\u001b[0;34m.\u001b[0m\u001b[0mindex\u001b[0m\u001b[0;34m.\u001b[0m\u001b[0mget_loc\u001b[0m\u001b[0;34m(\u001b[0m\u001b[0mlabel\u001b[0m\u001b[0;34m)\u001b[0m\u001b[0;34m\u001b[0m\u001b[0;34m\u001b[0m\u001b[0m\n\u001b[0m\u001b[1;32m   1052\u001b[0m         \u001b[0;32mreturn\u001b[0m \u001b[0mself\u001b[0m\u001b[0;34m.\u001b[0m\u001b[0mindex\u001b[0m\u001b[0;34m.\u001b[0m\u001b[0m_get_values_for_loc\u001b[0m\u001b[0;34m(\u001b[0m\u001b[0mself\u001b[0m\u001b[0;34m,\u001b[0m \u001b[0mloc\u001b[0m\u001b[0;34m,\u001b[0m \u001b[0mlabel\u001b[0m\u001b[0;34m)\u001b[0m\u001b[0;34m\u001b[0m\u001b[0;34m\u001b[0m\u001b[0m\n\u001b[1;32m   1053\u001b[0m \u001b[0;34m\u001b[0m\u001b[0m\n",
      "\u001b[0;32m/usr/local/anaconda3/lib/python3.9/site-packages/pandas/core/indexes/base.py\u001b[0m in \u001b[0;36mget_loc\u001b[0;34m(self, key, method, tolerance)\u001b[0m\n\u001b[1;32m   3361\u001b[0m                 \u001b[0;32mreturn\u001b[0m \u001b[0mself\u001b[0m\u001b[0;34m.\u001b[0m\u001b[0m_engine\u001b[0m\u001b[0;34m.\u001b[0m\u001b[0mget_loc\u001b[0m\u001b[0;34m(\u001b[0m\u001b[0mcasted_key\u001b[0m\u001b[0;34m)\u001b[0m\u001b[0;34m\u001b[0m\u001b[0;34m\u001b[0m\u001b[0m\n\u001b[1;32m   3362\u001b[0m             \u001b[0;32mexcept\u001b[0m \u001b[0mKeyError\u001b[0m \u001b[0;32mas\u001b[0m \u001b[0merr\u001b[0m\u001b[0;34m:\u001b[0m\u001b[0;34m\u001b[0m\u001b[0;34m\u001b[0m\u001b[0m\n\u001b[0;32m-> 3363\u001b[0;31m                 \u001b[0;32mraise\u001b[0m \u001b[0mKeyError\u001b[0m\u001b[0;34m(\u001b[0m\u001b[0mkey\u001b[0m\u001b[0;34m)\u001b[0m \u001b[0;32mfrom\u001b[0m \u001b[0merr\u001b[0m\u001b[0;34m\u001b[0m\u001b[0;34m\u001b[0m\u001b[0m\n\u001b[0m\u001b[1;32m   3364\u001b[0m \u001b[0;34m\u001b[0m\u001b[0m\n\u001b[1;32m   3365\u001b[0m         \u001b[0;32mif\u001b[0m \u001b[0mis_scalar\u001b[0m\u001b[0;34m(\u001b[0m\u001b[0mkey\u001b[0m\u001b[0;34m)\u001b[0m \u001b[0;32mand\u001b[0m \u001b[0misna\u001b[0m\u001b[0;34m(\u001b[0m\u001b[0mkey\u001b[0m\u001b[0;34m)\u001b[0m \u001b[0;32mand\u001b[0m \u001b[0;32mnot\u001b[0m \u001b[0mself\u001b[0m\u001b[0;34m.\u001b[0m\u001b[0mhasnans\u001b[0m\u001b[0;34m:\u001b[0m\u001b[0;34m\u001b[0m\u001b[0;34m\u001b[0m\u001b[0m\n",
      "\u001b[0;31mKeyError\u001b[0m: 'start_station_name'"
     ]
    }
   ],
   "source": [
    "stationname=stationname['start_station_name'].drop_duplicates()\n"
   ]
  },
  {
   "cell_type": "code",
   "execution_count": 20,
   "metadata": {},
   "outputs": [
    {
     "data": {
      "text/plain": [
       "0                Driggs Ave & N 9 St\n",
       "1               Fulton St & Broadway\n",
       "2              Devoe St & Lorimer St\n",
       "4          Graham Ave & Conselyea St\n",
       "5                Clark St & Henry St\n",
       "                     ...            \n",
       "8161135                 Newport PATH\n",
       "8177180                   Bergen Ave\n",
       "8255794             Essex Light Rail\n",
       "8762279                Grove St PATH\n",
       "9076804              Jersey & 6th St\n",
       "Name: start_station_name, Length: 1558, dtype: object"
      ]
     },
     "execution_count": 20,
     "metadata": {},
     "output_type": "execute_result"
    }
   ],
   "source": [
    "stationname"
   ]
  },
  {
   "cell_type": "code",
   "execution_count": 21,
   "metadata": {},
   "outputs": [
    {
     "data": {
      "text/html": [
       "<div>\n",
       "<style scoped>\n",
       "    .dataframe tbody tr th:only-of-type {\n",
       "        vertical-align: middle;\n",
       "    }\n",
       "\n",
       "    .dataframe tbody tr th {\n",
       "        vertical-align: top;\n",
       "    }\n",
       "\n",
       "    .dataframe thead th {\n",
       "        text-align: right;\n",
       "    }\n",
       "</style>\n",
       "<table border=\"1\" class=\"dataframe\">\n",
       "  <thead>\n",
       "    <tr style=\"text-align: right;\">\n",
       "      <th></th>\n",
       "      <th>start_station_name</th>\n",
       "    </tr>\n",
       "  </thead>\n",
       "  <tbody>\n",
       "    <tr>\n",
       "      <th>0</th>\n",
       "      <td>Driggs Ave &amp; N 9 St</td>\n",
       "    </tr>\n",
       "    <tr>\n",
       "      <th>1</th>\n",
       "      <td>Fulton St &amp; Broadway</td>\n",
       "    </tr>\n",
       "    <tr>\n",
       "      <th>2</th>\n",
       "      <td>Devoe St &amp; Lorimer St</td>\n",
       "    </tr>\n",
       "    <tr>\n",
       "      <th>4</th>\n",
       "      <td>Graham Ave &amp; Conselyea St</td>\n",
       "    </tr>\n",
       "    <tr>\n",
       "      <th>5</th>\n",
       "      <td>Clark St &amp; Henry St</td>\n",
       "    </tr>\n",
       "    <tr>\n",
       "      <th>...</th>\n",
       "      <td>...</td>\n",
       "    </tr>\n",
       "    <tr>\n",
       "      <th>8161135</th>\n",
       "      <td>Newport PATH</td>\n",
       "    </tr>\n",
       "    <tr>\n",
       "      <th>8177180</th>\n",
       "      <td>Bergen Ave</td>\n",
       "    </tr>\n",
       "    <tr>\n",
       "      <th>8255794</th>\n",
       "      <td>Essex Light Rail</td>\n",
       "    </tr>\n",
       "    <tr>\n",
       "      <th>8762279</th>\n",
       "      <td>Grove St PATH</td>\n",
       "    </tr>\n",
       "    <tr>\n",
       "      <th>9076804</th>\n",
       "      <td>Jersey &amp; 6th St</td>\n",
       "    </tr>\n",
       "  </tbody>\n",
       "</table>\n",
       "<p>1558 rows × 1 columns</p>\n",
       "</div>"
      ],
      "text/plain": [
       "                start_station_name\n",
       "0              Driggs Ave & N 9 St\n",
       "1             Fulton St & Broadway\n",
       "2            Devoe St & Lorimer St\n",
       "4        Graham Ave & Conselyea St\n",
       "5              Clark St & Henry St\n",
       "...                            ...\n",
       "8161135               Newport PATH\n",
       "8177180                 Bergen Ave\n",
       "8255794           Essex Light Rail\n",
       "8762279              Grove St PATH\n",
       "9076804            Jersey & 6th St\n",
       "\n",
       "[1558 rows x 1 columns]"
      ]
     },
     "execution_count": 21,
     "metadata": {},
     "output_type": "execute_result"
    }
   ],
   "source": [
    "stationname=pd.DataFrame(stationname)\n",
    "stationname"
   ]
  },
  {
   "cell_type": "code",
   "execution_count": 22,
   "metadata": {},
   "outputs": [],
   "source": [
    "stationname.to_csv('csv/stationname.csv') "
   ]
  },
  {
   "cell_type": "code",
   "execution_count": null,
   "metadata": {},
   "outputs": [],
   "source": []
  }
 ],
 "metadata": {
  "interpreter": {
   "hash": "aee8b7b246df8f9039afb4144a1f6fd8d2ca17a180786b69acc140d282b71a49"
  },
  "kernelspec": {
   "display_name": "Python 3 (ipykernel)",
   "language": "python",
   "name": "python3"
  },
  "language_info": {
   "codemirror_mode": {
    "name": "ipython",
    "version": 3
   },
   "file_extension": ".py",
   "mimetype": "text/x-python",
   "name": "python",
   "nbconvert_exporter": "python",
   "pygments_lexer": "ipython3",
   "version": "3.9.7"
  }
 },
 "nbformat": 4,
 "nbformat_minor": 4
}
